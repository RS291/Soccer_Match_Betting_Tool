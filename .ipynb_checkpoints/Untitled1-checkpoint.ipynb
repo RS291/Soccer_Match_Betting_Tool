{
 "cells": [
  {
   "cell_type": "markdown",
   "metadata": {},
   "source": [
    "# Table of Contents\n",
    "#### Data Science Workflow\n",
    "An introduction and summary of the approach I took to complete this project\n",
    "#### Business Case and Business Value  \n",
    "Background  \n",
    "Key question asked about the dataset  \n",
    "#### Obtaining The Data\n",
    "Sourcing the data  \n",
    "Importing the CSV  \n",
    "#### Scrubbing The Data\n",
    "Explore potential missing values  \n",
    "Ensure columns are of the correct data types  \n",
    "Copy the dataset to later normalize  \n",
    "#### Exploring The Data\n",
    "Use basic plots to visually examine relationships within the dataset  \n",
    "Exploration and familiarization with the dataset through statistical analysis  \n",
    "Detecting potential skews  \n",
    "Investigating possible multicollinearity   \n",
    "#### Modeling The Data\n",
    "Train and test split the data  \n",
    "Create a baseline model to work up from  \n",
    "Model the non-transformed data and review results   \n",
    "Model the normalized & transformed data and compare results to the non-transformed    \n",
    "Create multiple types of models to see what is the most accurate, efficient, and informative   \n",
    "Tune hyperparameters to find the ideal parameters for best performing model  \n",
    "#### Interpreting The Data\n",
    "Compare the models created in the last step and weigh the pros & cons of each type  \n",
    "Review the findings table to see which model is best, depending on our goals(accuracy, computational efficiency, etc)  \n",
    "#### Conclusion\n",
    "Expand upon our model review from the interpretation stage  \n",
    "Conclusion and opinion on my ideal model    \n",
    "Potential future work  \n",
    "References"
   ]
  },
  {
   "cell_type": "markdown",
   "metadata": {},
   "source": [
    "## Data Science Workflow\n",
    "##### For this project I am going to use the OSEMiN process\n",
    "##### (Obtain, Scrub, Explore, Model, Interpret) \n",
    "\n",
    "- **Obtain** - This part was simple for this project, my dataset is Dr Robert Lyon's Predicting a Pulsar Star dataset from Kaggle: (https://www.kaggle.com/pavanraj159/predicting-a-pulsar-star/data)\n",
    "- **Scrub** - The objective here is to identify errors, potential missing or corrupted fields in the data, and to clean up the dataset by discarding, replacing, or filling missing values and errors. \n",
    "- **Explore** - This is largely what EDA is. The goal in this phase is to understand patterns within our dataset by visualizing and testing to examine relationships in the data. \n",
    "- **Model** - This step encompases the higher level pre-processing such as normalization and synthetic oversampling of the minority class. After that we're ready to train some models to be able to give us some accurate predictive power to make intelligent business decisions. There are multiple steps of evaluation and refining of the models to ensure they're as accurate and unbiased as possible. \n",
    "- **Interpret** - In the final step, we examine our findings developed by our modeling and indentify important insights. As more data becomes available, this cycle can repeat and continue in a loop to build a faster, less biased, and more accurate model.\n",
    " \n",
    "Below you can follow the different stages of the EDA and modeling process by scrolling to the respective title."
   ]
  },
  {
   "cell_type": "markdown",
   "metadata": {},
   "source": [
    "## Business Case\n",
    "#### Background\n",
    "For this project, I assumed the role of a Data Scientist working with an astronomical research agency to train a machine learning model to classify whether a star is a pulsar or not.  \n",
    "A pulsar is a rotating, magnetized Neutron star that emits radiation(mostly radio, X-ray, and gamma wavelength) from its poles. Other than black holes, pulsars are the most dense objects in the known universe. Pulsars rotate with a very short and precise period which vary from star to star, however due to Radio Frequency Interference and background radiation noise, there are many false-positives when attempting to detect pulsars.  \n",
    "For further reading on pulsars visit the Wikipedia page [here](https://en.wikipedia.org/wiki/Pulsar). \n",
    "\n",
    "#### Overall Goal:  \n",
    "The goal is to train a machine learning model to classify pulsar candidate stars as either a true pulsar, or a false positive. \n",
    "The overall goal is model accuracy, as computational cost is not of concern in this application.  \n"
   ]
  },
  {
   "cell_type": "markdown",
   "metadata": {},
   "source": [
    "## Business Value  \n",
    "### Why is this important?\n",
    "#### Labor\n",
    "In the most basic way, the ability to effectively train a machine learning algorithm to accurately classify a pulsar from a false positive would free up human assets to be able to complete other tasks. Astronomers are highly educated, and therefore, generally well paid. Freeing up these monetary assets allows them to be productive elsewhere.  \n",
    "#### Cutting edge scientific discovery\n",
    "Pulsars prove to be very helpful for physicists and astronomers for a variety of other reasons. Being able to quickly and effectively identify pulsars would allow more of them to be discovered and used for other types of experiments.  \n",
    "Research on Pulsars has already yeilded two Nobel Peace Prizes. Pulsar research is at the tip of the spear in humanity's quest to understand gravitational waves and relativistic physics.  \n",
    "#### Gravitational waves\n",
    "Observing the precisely timed pulses from various pulsars scattered across the galaxy, astronomers aim to measure the slight variations in their signals which are thought to be caused by gravitational waves. Pulsar timing arrays are being used to uncover secrets of the early universe by hopefully confirming the observation of gravitational waves caused by pairs of supermassive black holes in the early universe, multidimensional strings, quasars, and other possible events from the first few moments following the Big Bang.  \n",
    "#### Nuclear physics  \n",
    "With pulsars being very small stellar objects(~10km radius) but having an average mass of ~1.4 solar masses, they are incredibly dense. In fact, the density of a pulsar is several times greater than the density of atomic nuclei. There is little understood about the physics of what goes on inside a pulsar and therefore are an incredibly interesting phenomena for physicists. \n",
    "#### Mapping interstellar space\n",
    "Due to the regularity of the emissions from pulsars, they can be used to triangulate position in the galaxy. Humanity has included pulsar maps on the two Pioneer plaques in addition to the Voyager Golden Record. These maps use 14 pulsars, and the position of the Sun to show where we are on the galactic plane. This form of navigation could prove to be very useful as Humanity progresses to a Type II civilization(see: [Kardashev Scale](https://en.wikipedia.org/wiki/Kardashev_scale)).\n",
    "#### Measuring time\n",
    "Again, using the regularity of a pulsar's pulses one can measure the passing of time, specifically establishing Ephemeris time which is free of the irregular constraints related to fluctuating mean solar time. Although pulsars are very precise and regular, the interference in the readings make this form of time measurement slightly less accurate and dependable when compared to an atomic clock - this however may change as our radio telescopes become more advanced.  "
   ]
  },
  {
   "cell_type": "markdown",
   "metadata": {},
   "source": [
    "# Obtain the Data  \n",
    "For this project, I used Dr Robert Lyon's Predicting a Pulsar Star dataset from Kaggle: (https://www.kaggle.com/pavanraj159/predicting-a-pulsar-star/data). Also included in this step will be the importing of any libraries I'll need throughout all the steps of my analysis and modeling. "
   ]
  },
  {
   "cell_type": "markdown",
   "metadata": {},
   "source": []
  },
  {
   "cell_type": "code",
   "execution_count": null,
   "metadata": {},
   "outputs": [],
   "source": []
  },
  {
   "cell_type": "code",
   "execution_count": null,
   "metadata": {},
   "outputs": [],
   "source": []
  }
 ],
 "metadata": {
  "kernelspec": {
   "display_name": "Python 3.7.4 64-bit ('base': conda)",
   "language": "python",
   "name": "python37464bitbasecondad6469289bf5c4ec9959ab1db2811e646"
  },
  "language_info": {
   "codemirror_mode": {
    "name": "ipython",
    "version": 3
   },
   "file_extension": ".py",
   "mimetype": "text/x-python",
   "name": "python",
   "nbconvert_exporter": "python",
   "pygments_lexer": "ipython3",
   "version": "3.7.4"
  }
 },
 "nbformat": 4,
 "nbformat_minor": 2
}
