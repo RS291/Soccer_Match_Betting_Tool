{
 "cells": [
  {
   "cell_type": "markdown",
   "metadata": {},
   "source": [
    "# Table of Contents\n",
    "#### Data Science Workflow\n",
    "An introduction and summary of the approach I took to complete this project\n",
    "#### Business Case and Business Value  \n",
    "Background  \n",
    "Goal  \n",
    "Why is this important?  \n",
    "#### Obtaining The Data\n",
    "Sourcing the data  \n",
    "Importing the CSVs  \n",
    "Importing packages  \n",
    "#### Scrubbing The Data\n",
    "DataCleaning.ipynb  \n",
    "#### Exploring The Data\n",
    "Use basic plots to visually examine relationships within the dataset  \n",
    "Exploration and familiarization with the dataset through statistical analysis  \n",
    "Detecting potential skews  \n",
    "Investigating features  \n",
    "#### Modeling The Data\n",
    "Train and test split the data  \n",
    "Model the data with a few classifiers and review results          \n",
    "Tune hyperparameters to find the ideal parameters for best performing models  \n",
    "Pickle final model\n",
    "#### Interpreting The Data\n",
    "Compare the models created and weigh the pros & cons    \n",
    "#### Conclusion\n",
    "Conclusion and opinion on my ideal model    \n",
    "Potential future work  \n",
    "References  "
   ]
  },
  {
   "cell_type": "markdown",
   "metadata": {},
   "source": [
    "## Data Science Workflow\n",
    "##### For this project I am going to use the OSEMiN process\n",
    "##### (Obtain, Scrub, Explore, Model, Interpret) \n",
    "\n",
    "- **Obtain** - The team and SPI data came from FiveThirtyEight's Soccer Predictions dataset, found [here](https://projects.fivethirtyeight.com/soccer-predictions/).\n",
    "- **Scrub** - The objective here is to identify errors, potential missing or corrupted fields in the data, and to clean up the dataset by discarding, replacing, or filling missing values and errors. \n",
    "- **Explore** - This is the EDA phase. The goal here is to understand patterns within our dataset by visualizing and testing to examine relationships in the data. \n",
    "- **Model** - This step encompases the higher level pre-processing such as normalization and managing class imbalance. After that we're ready to train some models to be able to give us some accurate predictive power to make intelligent business decisions. There are multiple steps of evaluation and refining of the models to ensure they're as accurate and unbiased as possible. \n",
    "- **Interpret** - In the final step, we examine our findings developed by our modeling and indentify important insights. As more data becomes available, this cycle can repeat and continue in a loop to build a faster, less biased, and more accurate model.\n",
    " \n",
    "Below you can follow the different stages of the EDA and modeling process by scrolling to the respective title."
   ]
  },
  {
   "cell_type": "markdown",
   "metadata": {},
   "source": [
    "## Business Case\n",
    "#### Background\n",
    "Soccer is the most watched and bet-on sport in the world. With over 3 billion global fans and viewers, it dwarfs 2nd place Cricket by over 1 billion fans. The sports betting industry is worth an estimated $3 trillion, with soccer making up the largest share of that for a single sport. \n",
    "My goal is to predict the winner of a soccer match, using different features such as, Soccer Power Index (SPI), past performances and odds. With how many people bet on the sport daily, this could amount to be a popular and useful too to help gamblers get an edge on the house, and therefore reap higher returns on their bets. \n",
    "\n",
    "#### Overall Goal:  \n",
    "My goal is to predict the winner of a soccer match, using different features such as, Soccer Power Index (SPI), past performances and odds. With how many people bet on the sport daily, this could amount to be a popular and useful too to help gamblers get an edge on the house, and therefore reap higher returns on their bets. \n"
   ]
  },
  {
   "cell_type": "markdown",
   "metadata": {},
   "source": [
    "## Business Value  \n",
    "### Why is this important?\n",
    "The global sports gambling market is a multi-trillion-dollar industry, with much of that having to do with European club soccer. My target audience is the over 3 billion people who consider themselves soccer fans, and specifically the subset of that who intend to gamble their hard-earned money on it. I aim to assist these people in educating their decision-making to be able to maximize returns and profits on the bets that are placed. \n"
   ]
  },
  {
   "cell_type": "markdown",
   "metadata": {},
   "source": [
    "# Obtain the Data  \n",
    "I'm using SPI data and match data from FiveThirtyEight to model. I've preprocessed the data a bit in the notebook titled DataCleaning.ipynb. In this stage, I'll import the dataset and all the neccesary libraries for the whole process.   "
   ]
  },
  {
   "cell_type": "code",
   "execution_count": 1,
   "metadata": {},
   "outputs": [],
   "source": [
    "# import necessary tools\n",
    "import numpy as np\n",
    "import matplotlib.pyplot as plt\n",
    "from matplotlib.legend_handler import HandlerBase\n",
    "import plotly.express as px\n",
    "%matplotlib inline\n",
    "import pandas as pd\n",
    "import seaborn as sns\n",
    "sns.set(style='darkgrid')\n",
    "\n",
    "import itertools\n",
    "import math\n",
    "import time\n",
    "import pickle\n",
    "\n",
    "import statsmodels.formula.api as smf\n",
    "import xgboost as xgb\n",
    "from xgboost import XGBClassifier\n",
    "from scipy import stats\n",
    "from sklearn import svm\n",
    "from sklearn.svm import LinearSVC, SVC\n",
    "from sklearn.linear_model import LogisticRegression\n",
    "from sklearn.neighbors import KNeighborsClassifier\n",
    "from sklearn.model_selection import train_test_split, GridSearchCV, cross_val_score\n",
    "from sklearn.preprocessing import StandardScaler, MinMaxScaler, PolynomialFeatures\n",
    "from sklearn.metrics import accuracy_score, f1_score, confusion_matrix, classification_report, \\\n",
    "    roc_curve, auc, mean_squared_error, roc_auc_score, recall_score, precision_score, \\\n",
    "    plot_confusion_matrix\n",
    "from sklearn.ensemble import RandomForestClassifier, BaggingClassifier\n",
    "from sklearn.tree import DecisionTreeClassifier, ExtraTreeClassifier\n",
    "from sklearn.pipeline import Pipeline\n",
    "\n",
    "rng = np.random.RandomState(25)\n",
    "\n",
    "import warnings\n",
    "warnings.filterwarnings('ignore')"
   ]
  },
  {
   "cell_type": "code",
   "execution_count": 2,
   "metadata": {},
   "outputs": [
    {
     "data": {
      "text/html": [
       "<div>\n",
       "<style scoped>\n",
       "    .dataframe tbody tr th:only-of-type {\n",
       "        vertical-align: middle;\n",
       "    }\n",
       "\n",
       "    .dataframe tbody tr th {\n",
       "        vertical-align: top;\n",
       "    }\n",
       "\n",
       "    .dataframe thead th {\n",
       "        text-align: right;\n",
       "    }\n",
       "</style>\n",
       "<table border=\"1\" class=\"dataframe\">\n",
       "  <thead>\n",
       "    <tr style=\"text-align: right;\">\n",
       "      <th></th>\n",
       "      <th>Unnamed: 0</th>\n",
       "      <th>rank</th>\n",
       "      <th>prev_rank</th>\n",
       "      <th>name</th>\n",
       "      <th>league</th>\n",
       "      <th>off</th>\n",
       "      <th>def</th>\n",
       "      <th>spi</th>\n",
       "    </tr>\n",
       "  </thead>\n",
       "  <tbody>\n",
       "    <tr>\n",
       "      <td>0</td>\n",
       "      <td>0</td>\n",
       "      <td>1</td>\n",
       "      <td>1</td>\n",
       "      <td>Bayern Munich</td>\n",
       "      <td>German Bundesliga</td>\n",
       "      <td>3.51</td>\n",
       "      <td>0.43</td>\n",
       "      <td>93.96</td>\n",
       "    </tr>\n",
       "    <tr>\n",
       "      <td>1</td>\n",
       "      <td>1</td>\n",
       "      <td>2</td>\n",
       "      <td>2</td>\n",
       "      <td>Manchester City</td>\n",
       "      <td>Barclays Premier League</td>\n",
       "      <td>2.86</td>\n",
       "      <td>0.24</td>\n",
       "      <td>92.84</td>\n",
       "    </tr>\n",
       "    <tr>\n",
       "      <td>2</td>\n",
       "      <td>2</td>\n",
       "      <td>3</td>\n",
       "      <td>3</td>\n",
       "      <td>Barcelona</td>\n",
       "      <td>Spanish Primera Division</td>\n",
       "      <td>3.01</td>\n",
       "      <td>0.50</td>\n",
       "      <td>90.16</td>\n",
       "    </tr>\n",
       "    <tr>\n",
       "      <td>3</td>\n",
       "      <td>3</td>\n",
       "      <td>4</td>\n",
       "      <td>4</td>\n",
       "      <td>Liverpool</td>\n",
       "      <td>Barclays Premier League</td>\n",
       "      <td>2.79</td>\n",
       "      <td>0.46</td>\n",
       "      <td>88.95</td>\n",
       "    </tr>\n",
       "    <tr>\n",
       "      <td>4</td>\n",
       "      <td>4</td>\n",
       "      <td>5</td>\n",
       "      <td>5</td>\n",
       "      <td>Paris Saint-Germain</td>\n",
       "      <td>French Ligue 1</td>\n",
       "      <td>2.89</td>\n",
       "      <td>0.52</td>\n",
       "      <td>88.85</td>\n",
       "    </tr>\n",
       "  </tbody>\n",
       "</table>\n",
       "</div>"
      ],
      "text/plain": [
       "   Unnamed: 0  rank  prev_rank                 name                    league  \\\n",
       "0           0     1          1        Bayern Munich         German Bundesliga   \n",
       "1           1     2          2      Manchester City   Barclays Premier League   \n",
       "2           2     3          3            Barcelona  Spanish Primera Division   \n",
       "3           3     4          4            Liverpool   Barclays Premier League   \n",
       "4           4     5          5  Paris Saint-Germain            French Ligue 1   \n",
       "\n",
       "    off   def    spi  \n",
       "0  3.51  0.43  93.96  \n",
       "1  2.86  0.24  92.84  \n",
       "2  3.01  0.50  90.16  \n",
       "3  2.79  0.46  88.95  \n",
       "4  2.89  0.52  88.85  "
      ]
     },
     "execution_count": 2,
     "metadata": {},
     "output_type": "execute_result"
    }
   ],
   "source": [
    "club_data = pd.read_csv('Data/SPI_data.csv')\n",
    "club_data.head()"
   ]
  },
  {
   "cell_type": "code",
   "execution_count": 3,
   "metadata": {},
   "outputs": [
    {
     "ename": "FileNotFoundError",
     "evalue": "[Errno 2] File b'SPI_matches_all.csv' does not exist: b'SPI_matches_all.csv'",
     "output_type": "error",
     "traceback": [
      "\u001b[1;31m---------------------------------------------------------------------------\u001b[0m",
      "\u001b[1;31mFileNotFoundError\u001b[0m                         Traceback (most recent call last)",
      "\u001b[1;32m<ipython-input-3-9220a30eed31>\u001b[0m in \u001b[0;36m<module>\u001b[1;34m\u001b[0m\n\u001b[1;32m----> 1\u001b[1;33m \u001b[0mmatch_data\u001b[0m \u001b[1;33m=\u001b[0m \u001b[0mpd\u001b[0m\u001b[1;33m.\u001b[0m\u001b[0mread_csv\u001b[0m\u001b[1;33m(\u001b[0m\u001b[1;34m'SPI_matches_all.csv'\u001b[0m\u001b[1;33m)\u001b[0m\u001b[1;33m\u001b[0m\u001b[1;33m\u001b[0m\u001b[0m\n\u001b[0m\u001b[0;32m      2\u001b[0m \u001b[0mmatch_data\u001b[0m\u001b[1;33m.\u001b[0m\u001b[0mhead\u001b[0m\u001b[1;33m(\u001b[0m\u001b[1;33m)\u001b[0m\u001b[1;33m\u001b[0m\u001b[1;33m\u001b[0m\u001b[0m\n",
      "\u001b[1;32m~\\Anaconda3\\lib\\site-packages\\pandas\\io\\parsers.py\u001b[0m in \u001b[0;36mparser_f\u001b[1;34m(filepath_or_buffer, sep, delimiter, header, names, index_col, usecols, squeeze, prefix, mangle_dupe_cols, dtype, engine, converters, true_values, false_values, skipinitialspace, skiprows, skipfooter, nrows, na_values, keep_default_na, na_filter, verbose, skip_blank_lines, parse_dates, infer_datetime_format, keep_date_col, date_parser, dayfirst, cache_dates, iterator, chunksize, compression, thousands, decimal, lineterminator, quotechar, quoting, doublequote, escapechar, comment, encoding, dialect, error_bad_lines, warn_bad_lines, delim_whitespace, low_memory, memory_map, float_precision)\u001b[0m\n\u001b[0;32m    683\u001b[0m         )\n\u001b[0;32m    684\u001b[0m \u001b[1;33m\u001b[0m\u001b[0m\n\u001b[1;32m--> 685\u001b[1;33m         \u001b[1;32mreturn\u001b[0m \u001b[0m_read\u001b[0m\u001b[1;33m(\u001b[0m\u001b[0mfilepath_or_buffer\u001b[0m\u001b[1;33m,\u001b[0m \u001b[0mkwds\u001b[0m\u001b[1;33m)\u001b[0m\u001b[1;33m\u001b[0m\u001b[1;33m\u001b[0m\u001b[0m\n\u001b[0m\u001b[0;32m    686\u001b[0m \u001b[1;33m\u001b[0m\u001b[0m\n\u001b[0;32m    687\u001b[0m     \u001b[0mparser_f\u001b[0m\u001b[1;33m.\u001b[0m\u001b[0m__name__\u001b[0m \u001b[1;33m=\u001b[0m \u001b[0mname\u001b[0m\u001b[1;33m\u001b[0m\u001b[1;33m\u001b[0m\u001b[0m\n",
      "\u001b[1;32m~\\Anaconda3\\lib\\site-packages\\pandas\\io\\parsers.py\u001b[0m in \u001b[0;36m_read\u001b[1;34m(filepath_or_buffer, kwds)\u001b[0m\n\u001b[0;32m    455\u001b[0m \u001b[1;33m\u001b[0m\u001b[0m\n\u001b[0;32m    456\u001b[0m     \u001b[1;31m# Create the parser.\u001b[0m\u001b[1;33m\u001b[0m\u001b[1;33m\u001b[0m\u001b[1;33m\u001b[0m\u001b[0m\n\u001b[1;32m--> 457\u001b[1;33m     \u001b[0mparser\u001b[0m \u001b[1;33m=\u001b[0m \u001b[0mTextFileReader\u001b[0m\u001b[1;33m(\u001b[0m\u001b[0mfp_or_buf\u001b[0m\u001b[1;33m,\u001b[0m \u001b[1;33m**\u001b[0m\u001b[0mkwds\u001b[0m\u001b[1;33m)\u001b[0m\u001b[1;33m\u001b[0m\u001b[1;33m\u001b[0m\u001b[0m\n\u001b[0m\u001b[0;32m    458\u001b[0m \u001b[1;33m\u001b[0m\u001b[0m\n\u001b[0;32m    459\u001b[0m     \u001b[1;32mif\u001b[0m \u001b[0mchunksize\u001b[0m \u001b[1;32mor\u001b[0m \u001b[0miterator\u001b[0m\u001b[1;33m:\u001b[0m\u001b[1;33m\u001b[0m\u001b[1;33m\u001b[0m\u001b[0m\n",
      "\u001b[1;32m~\\Anaconda3\\lib\\site-packages\\pandas\\io\\parsers.py\u001b[0m in \u001b[0;36m__init__\u001b[1;34m(self, f, engine, **kwds)\u001b[0m\n\u001b[0;32m    893\u001b[0m             \u001b[0mself\u001b[0m\u001b[1;33m.\u001b[0m\u001b[0moptions\u001b[0m\u001b[1;33m[\u001b[0m\u001b[1;34m\"has_index_names\"\u001b[0m\u001b[1;33m]\u001b[0m \u001b[1;33m=\u001b[0m \u001b[0mkwds\u001b[0m\u001b[1;33m[\u001b[0m\u001b[1;34m\"has_index_names\"\u001b[0m\u001b[1;33m]\u001b[0m\u001b[1;33m\u001b[0m\u001b[1;33m\u001b[0m\u001b[0m\n\u001b[0;32m    894\u001b[0m \u001b[1;33m\u001b[0m\u001b[0m\n\u001b[1;32m--> 895\u001b[1;33m         \u001b[0mself\u001b[0m\u001b[1;33m.\u001b[0m\u001b[0m_make_engine\u001b[0m\u001b[1;33m(\u001b[0m\u001b[0mself\u001b[0m\u001b[1;33m.\u001b[0m\u001b[0mengine\u001b[0m\u001b[1;33m)\u001b[0m\u001b[1;33m\u001b[0m\u001b[1;33m\u001b[0m\u001b[0m\n\u001b[0m\u001b[0;32m    896\u001b[0m \u001b[1;33m\u001b[0m\u001b[0m\n\u001b[0;32m    897\u001b[0m     \u001b[1;32mdef\u001b[0m \u001b[0mclose\u001b[0m\u001b[1;33m(\u001b[0m\u001b[0mself\u001b[0m\u001b[1;33m)\u001b[0m\u001b[1;33m:\u001b[0m\u001b[1;33m\u001b[0m\u001b[1;33m\u001b[0m\u001b[0m\n",
      "\u001b[1;32m~\\Anaconda3\\lib\\site-packages\\pandas\\io\\parsers.py\u001b[0m in \u001b[0;36m_make_engine\u001b[1;34m(self, engine)\u001b[0m\n\u001b[0;32m   1133\u001b[0m     \u001b[1;32mdef\u001b[0m \u001b[0m_make_engine\u001b[0m\u001b[1;33m(\u001b[0m\u001b[0mself\u001b[0m\u001b[1;33m,\u001b[0m \u001b[0mengine\u001b[0m\u001b[1;33m=\u001b[0m\u001b[1;34m\"c\"\u001b[0m\u001b[1;33m)\u001b[0m\u001b[1;33m:\u001b[0m\u001b[1;33m\u001b[0m\u001b[1;33m\u001b[0m\u001b[0m\n\u001b[0;32m   1134\u001b[0m         \u001b[1;32mif\u001b[0m \u001b[0mengine\u001b[0m \u001b[1;33m==\u001b[0m \u001b[1;34m\"c\"\u001b[0m\u001b[1;33m:\u001b[0m\u001b[1;33m\u001b[0m\u001b[1;33m\u001b[0m\u001b[0m\n\u001b[1;32m-> 1135\u001b[1;33m             \u001b[0mself\u001b[0m\u001b[1;33m.\u001b[0m\u001b[0m_engine\u001b[0m \u001b[1;33m=\u001b[0m \u001b[0mCParserWrapper\u001b[0m\u001b[1;33m(\u001b[0m\u001b[0mself\u001b[0m\u001b[1;33m.\u001b[0m\u001b[0mf\u001b[0m\u001b[1;33m,\u001b[0m \u001b[1;33m**\u001b[0m\u001b[0mself\u001b[0m\u001b[1;33m.\u001b[0m\u001b[0moptions\u001b[0m\u001b[1;33m)\u001b[0m\u001b[1;33m\u001b[0m\u001b[1;33m\u001b[0m\u001b[0m\n\u001b[0m\u001b[0;32m   1136\u001b[0m         \u001b[1;32melse\u001b[0m\u001b[1;33m:\u001b[0m\u001b[1;33m\u001b[0m\u001b[1;33m\u001b[0m\u001b[0m\n\u001b[0;32m   1137\u001b[0m             \u001b[1;32mif\u001b[0m \u001b[0mengine\u001b[0m \u001b[1;33m==\u001b[0m \u001b[1;34m\"python\"\u001b[0m\u001b[1;33m:\u001b[0m\u001b[1;33m\u001b[0m\u001b[1;33m\u001b[0m\u001b[0m\n",
      "\u001b[1;32m~\\Anaconda3\\lib\\site-packages\\pandas\\io\\parsers.py\u001b[0m in \u001b[0;36m__init__\u001b[1;34m(self, src, **kwds)\u001b[0m\n\u001b[0;32m   1915\u001b[0m         \u001b[0mkwds\u001b[0m\u001b[1;33m[\u001b[0m\u001b[1;34m\"usecols\"\u001b[0m\u001b[1;33m]\u001b[0m \u001b[1;33m=\u001b[0m \u001b[0mself\u001b[0m\u001b[1;33m.\u001b[0m\u001b[0musecols\u001b[0m\u001b[1;33m\u001b[0m\u001b[1;33m\u001b[0m\u001b[0m\n\u001b[0;32m   1916\u001b[0m \u001b[1;33m\u001b[0m\u001b[0m\n\u001b[1;32m-> 1917\u001b[1;33m         \u001b[0mself\u001b[0m\u001b[1;33m.\u001b[0m\u001b[0m_reader\u001b[0m \u001b[1;33m=\u001b[0m \u001b[0mparsers\u001b[0m\u001b[1;33m.\u001b[0m\u001b[0mTextReader\u001b[0m\u001b[1;33m(\u001b[0m\u001b[0msrc\u001b[0m\u001b[1;33m,\u001b[0m \u001b[1;33m**\u001b[0m\u001b[0mkwds\u001b[0m\u001b[1;33m)\u001b[0m\u001b[1;33m\u001b[0m\u001b[1;33m\u001b[0m\u001b[0m\n\u001b[0m\u001b[0;32m   1918\u001b[0m         \u001b[0mself\u001b[0m\u001b[1;33m.\u001b[0m\u001b[0munnamed_cols\u001b[0m \u001b[1;33m=\u001b[0m \u001b[0mself\u001b[0m\u001b[1;33m.\u001b[0m\u001b[0m_reader\u001b[0m\u001b[1;33m.\u001b[0m\u001b[0munnamed_cols\u001b[0m\u001b[1;33m\u001b[0m\u001b[1;33m\u001b[0m\u001b[0m\n\u001b[0;32m   1919\u001b[0m \u001b[1;33m\u001b[0m\u001b[0m\n",
      "\u001b[1;32mpandas\\_libs\\parsers.pyx\u001b[0m in \u001b[0;36mpandas._libs.parsers.TextReader.__cinit__\u001b[1;34m()\u001b[0m\n",
      "\u001b[1;32mpandas\\_libs\\parsers.pyx\u001b[0m in \u001b[0;36mpandas._libs.parsers.TextReader._setup_parser_source\u001b[1;34m()\u001b[0m\n",
      "\u001b[1;31mFileNotFoundError\u001b[0m: [Errno 2] File b'SPI_matches_all.csv' does not exist: b'SPI_matches_all.csv'"
     ]
    }
   ],
   "source": [
    "match_data = pd.read_csv('SPI_matches_all.csv')\n",
    "match_data.head()"
   ]
  },
  {
   "cell_type": "markdown",
   "metadata": {},
   "source": [
    "# Scrub and Explore the Data\n",
    "The data was tidied up in the DataCleaning.ipynb Notebook before being imported here. I will continue to tweak and pare the dataset while I explore it more and get ready to model. The line between scrubbing and exploring is blurry at best, and these two stages of the project flow occur simultaneously.  \n",
    "At the end of this section, the data will be prepared for the modeling phase and ready to be appropriately split.  "
   ]
  },
  {
   "cell_type": "code",
   "execution_count": null,
   "metadata": {},
   "outputs": [],
   "source": [
    "club_data.describe()"
   ]
  },
  {
   "cell_type": "code",
   "execution_count": null,
   "metadata": {},
   "outputs": [],
   "source": [
    "club_data = club_data.drop(columns=\"Unnamed: 0\")\n",
    "club_data.head()"
   ]
  },
  {
   "cell_type": "code",
   "execution_count": null,
   "metadata": {},
   "outputs": [],
   "source": [
    "match_data = match_data.drop(columns=\"Unnamed: 0\")\n",
    "match_data.head()"
   ]
  },
  {
   "cell_type": "code",
   "execution_count": null,
   "metadata": {},
   "outputs": [],
   "source": [
    "# Looking at the club data description\n",
    "plt.figure(figsize=(12,12))\n",
    "ax = sns.heatmap(club_data.describe().transpose(),\n",
    "           annot=True, linecolor=\"black\",\n",
    "            linewidth=1, square=True, vmin=0, vmax=1000, \n",
    "                 cmap=sns.color_palette(\"Set2\"))\n",
    "plt.title(\"Description Heatmap\")\n",
    "bottom, top = ax.get_ylim()\n",
    "ax.set_ylim(bottom + 0.5, top - 0.5)\n",
    "plt.show()"
   ]
  },
  {
   "cell_type": "code",
   "execution_count": null,
   "metadata": {},
   "outputs": [],
   "source": [
    "# Next I'll look at possible multicollinearity among the features\n",
    "correlation = match_data.corr()\n",
    "plt.figure(figsize=(30,30))\n",
    "ax = sns.heatmap(correlation, annot=True, \n",
    "                cmap=sns.color_palette(\"coolwarm\", 7),\n",
    "                linewidth=1, linecolor=\"white\")\n",
    "plt.title(\"Collinearity Between Features\")\n",
    "bottom, top = ax.get_ylim()\n",
    "ax.set_ylim(bottom + 0.5, top - 0.5)\n",
    "plt.show()"
   ]
  },
  {
   "cell_type": "markdown",
   "metadata": {},
   "source": [
    "There are some redundant columns, and others that don't bring much meaningful information for modeling. I'll continue to pare down this dataset to a manageable level and reduce the number of features.  I want to reduce the number of features for selection in the final deployment so I will be removing all redundant columns, relative importances, NSXG, and all date/time related info.  "
   ]
  },
  {
   "cell_type": "code",
   "execution_count": null,
   "metadata": {
    "scrolled": true
   },
   "outputs": [],
   "source": [
    "match_data_final = match_data[[\"league_id\", \"league\", \"team1\", \"team2\", \"spi1\", \"spi2\",\n",
    "                               \"prob1\", \"prob2\", \"probtie\", \"proj_score1\", \"proj_score2\", \n",
    "                               \"score1\", \"score2\", \"xg1\", \"xg2\"]].copy()\n",
    "match_data_final.head(10)"
   ]
  },
  {
   "cell_type": "code",
   "execution_count": null,
   "metadata": {},
   "outputs": [],
   "source": [
    "# another look at collinearity \n",
    "sns.set(font_scale=1.7)\n",
    "correlation = match_data_final.corr()\n",
    "plt.figure(figsize=(30,30))\n",
    "ax = sns.heatmap(correlation, annot=True, \n",
    "                cmap=sns.color_palette(\"coolwarm\", 7),\n",
    "                linewidth=1, linecolor=\"white\")\n",
    "plt.title(\"Collinearity Between Features\")\n",
    "bottom, top = ax.get_ylim()\n",
    "ax.set_ylim(bottom + 0.5, top - 0.5)\n",
    "plt.show()"
   ]
  },
  {
   "cell_type": "markdown",
   "metadata": {},
   "source": [
    "Due to the close correlation between prob1, prob2 and their respective projected score, I'm going to drop the proj_score1 and proj_score2 columns.  "
   ]
  },
  {
   "cell_type": "code",
   "execution_count": null,
   "metadata": {},
   "outputs": [],
   "source": [
    "match_data_final = match_data_final.drop(columns=[\"proj_score1\", \"proj_score2\"])\n",
    "match_data_final.head(10)"
   ]
  },
  {
   "cell_type": "code",
   "execution_count": null,
   "metadata": {
    "scrolled": true
   },
   "outputs": [],
   "source": [
    "match_data_final = match_data_final.drop(columns=\"league_id\")\n",
    "match_data_final"
   ]
  },
  {
   "cell_type": "code",
   "execution_count": null,
   "metadata": {},
   "outputs": [],
   "source": [
    "# Removing all rows where the score and xg data is absent\n",
    "fullscore_data = match_data_final[match_data_final['score1'].notna()]\n",
    "fullscore_data"
   ]
  },
  {
   "cell_type": "code",
   "execution_count": null,
   "metadata": {},
   "outputs": [],
   "source": [
    "# function to loop through df and assign target values\n",
    "# 0 = draw, 1 = team1(home) win, 2 = team2(away) win\n",
    "def make_target(df):\n",
    "    if df['score1'] == df['score2']:\n",
    "        return 0\n",
    "    elif df['score1'] > df['score2']:\n",
    "        return 1\n",
    "    elif df['score1'] < df['score2']:\n",
    "        return 2\n",
    "    else: \n",
    "        return 'Undefined'"
   ]
  },
  {
   "cell_type": "code",
   "execution_count": null,
   "metadata": {},
   "outputs": [],
   "source": [
    "multiclass_data = fullscore_data.copy()\n",
    "multiclass_data.head()"
   ]
  },
  {
   "cell_type": "code",
   "execution_count": null,
   "metadata": {},
   "outputs": [],
   "source": [
    "multiclass_data['target'] = multiclass_data.apply(make_target, axis=1)\n",
    "multiclass_data.head()"
   ]
  },
  {
   "cell_type": "code",
   "execution_count": null,
   "metadata": {},
   "outputs": [],
   "source": [
    "multiclass_data.target.value_counts()"
   ]
  },
  {
   "cell_type": "code",
   "execution_count": null,
   "metadata": {},
   "outputs": [],
   "source": [
    "multiclass_data = multiclass_data.drop(columns=\"league\")"
   ]
  },
  {
   "cell_type": "code",
   "execution_count": null,
   "metadata": {},
   "outputs": [],
   "source": [
    "multiclass_data"
   ]
  },
  {
   "cell_type": "markdown",
   "metadata": {},
   "source": [
    "Due to XG(expected goal) data not being available before the match, I want to remove that as a feature. In the apps final state, I want to be able to prompt a user for: 2 clubs(the SPIs will be stored in a database), probability for Home win, Away win, and draw and create a prediction from that.  "
   ]
  },
  {
   "cell_type": "code",
   "execution_count": null,
   "metadata": {},
   "outputs": [],
   "source": [
    "multiclass_data = multiclass_data.drop(columns=[\"xg1\",\"xg2\"])\n",
    "multiclass_data"
   ]
  },
  {
   "cell_type": "code",
   "execution_count": null,
   "metadata": {},
   "outputs": [],
   "source": [
    "# saving this set as the training set for future use and saving the base multiclass_data \n",
    "# dataframe in case I make any mistakes and need to revert. \n",
    "training_data = multiclass_data.copy()"
   ]
  },
  {
   "cell_type": "code",
   "execution_count": null,
   "metadata": {},
   "outputs": [],
   "source": [
    "training_data = training_data.drop(columns=[\"team1\", \"team2\"])\n",
    "training_data.head()"
   ]
  },
  {
   "cell_type": "code",
   "execution_count": null,
   "metadata": {
    "scrolled": true
   },
   "outputs": [],
   "source": [
    "club_data.head()"
   ]
  },
  {
   "cell_type": "markdown",
   "metadata": {},
   "source": [
    "### Visualizations \n",
    "#### Target class counts"
   ]
  },
  {
   "cell_type": "code",
   "execution_count": null,
   "metadata": {},
   "outputs": [],
   "source": [
    "# First I want to see how many instances of each class we have in the dataset \n",
    "plt.figure(figsize=(12,12))\n",
    "ax = sns.countplot(y = training_data.target, palette=\"pastel\",\n",
    "                  linewidth=1, edgecolor=\"black\")\n",
    "for i, j in enumerate(training_data[\"target\"].value_counts().values):\n",
    "    ax.text(.75, i, j, fontsize=26)\n",
    "plt.title(\"Count for target classes in dataset\")\n",
    "labels = [\"Draw\", \"Home Win\", \"Away Win\"]\n",
    "ax.set_yticklabels(labels)\n",
    "plt.show();"
   ]
  },
  {
   "cell_type": "markdown",
   "metadata": {},
   "source": [
    "Looking at the spread, it seems more likely the home team wins, and more likely a match ends with a clear winner than with a draw. \n",
    "\n",
    "#### Plotted distributions of all features"
   ]
  },
  {
   "cell_type": "code",
   "execution_count": null,
   "metadata": {},
   "outputs": [],
   "source": [
    "columns = [\"spi1\", \"spi2\", \"prob1\", \"prob2\", \"probtie\", \"score1\", \"score2\"]\n",
    "length  = len(columns)\n",
    "colors  = [\"r\",\"g\",\"b\",\"m\",\"y\",\"c\",\"k\"] \n",
    "\n",
    "plt.figure(figsize=(13,20))\n",
    "for i,j,k in itertools.zip_longest(columns,range(length),colors):\n",
    "    plt.subplot(length/2,length/2,j+1)\n",
    "    sns.distplot(training_data[i],color=k)\n",
    "    plt.title(i)\n",
    "    plt.subplots_adjust(hspace = .3)\n",
    "    plt.axvline(training_data[i].mean(),color = \"k\",linestyle=\"dashed\",label=\"MEAN\")\n",
    "    plt.axvline(training_data[i].std(),color = \"b\",linestyle=\"dotted\",label=\"STANDARD DEVIATION\")\n",
    "    plt.legend(loc=\"best\", prop={'size':12})\n",
    "    \n",
    "print (\"Plotting the distributions of features in dataset\")\n"
   ]
  },
  {
   "cell_type": "markdown",
   "metadata": {},
   "source": [
    "Interestingly enough, SPI and prob1 seems to follow almost a normal distribution. Other than that, there's not much notable information to take from that. \n",
    "\n",
    "#### Boxplots for features related to target classes"
   ]
  },
  {
   "cell_type": "code",
   "execution_count": null,
   "metadata": {},
   "outputs": [],
   "source": [
    "columns = [x for x in training_data.columns if x not in [\"target_class\"]]\n",
    "length  = len(columns)\n",
    "plt.figure(figsize=(13,20))\n",
    "for i,j in itertools.zip_longest(columns,range(length)):\n",
    "    plt.subplot(4,2,j+1)\n",
    "    plt.subplots_adjust(bottom = 1/50)\n",
    "    sns.lvplot(x=training_data[\"target\"],y=training_data[i],palette=\"pastel\")\n",
    "    plt.title(i + \" related to target\")\n",
    "    plt.subplots_adjust(hspace=.3)\n",
    "    plt.axhline(training_data[i].mean(),linestyle = \"dashed\",color =\"k\",label =\"Mean value for data\")\n",
    "    plt.legend(loc=\"upper left\", prop={'size':12})\n",
    "    \n",
    "print (\"Boxplots for features related to target_class\")"
   ]
  },
  {
   "cell_type": "markdown",
   "metadata": {},
   "source": [
    "#### 3d Plot showing how the pre-match probabilty corresponded to actual results\n",
    "- Purple = Draw\n",
    "- Pink = Home Win\n",
    "- Yellow = Away Win"
   ]
  },
  {
   "cell_type": "code",
   "execution_count": null,
   "metadata": {
    "scrolled": true
   },
   "outputs": [],
   "source": [
    "df = training_data\n",
    "\n",
    "fig = px.scatter_3d(df, y=training_data[\"prob1\"], x=training_data[\"prob2\"],\n",
    "                   z=training_data[\"probtie\"], color=training_data[\"target\"],\n",
    "                   labels={\n",
    "                       \"probtie\": \"Draw\",\n",
    "                       \"prob1\": \"Home Win\",\n",
    "                       \"prob2\": \"Away Win\"\n",
    "                   }, title= \"Predictions vs FT Result\")\n",
    "fig\n",
    "fig.show()\n",
    "\n",
    "#Purple = Draw\n",
    "#Pink = Home Win\n",
    "#Yellow = Away Win"
   ]
  },
  {
   "cell_type": "markdown",
   "metadata": {},
   "source": [
    "### EDA Summary \n",
    "By looking at the target class counts bar chart, we can clearly see there is a \n",
    "slight class imbalance. I think this is indicative of what people refer to as the \"home team advantage\".  \n",
    "\n",
    "For ease of end user use, I'll be paring down the features to SPI and odds. The SPI stat is already just a complex stat, it's easy to get a lot of information from that one number. I also opted to not use some of the other match data in the training set because of the concern of bleed. If the model is trained on information that it won't be able to get in realtime application, then it would be useless. "
   ]
  },
  {
   "cell_type": "markdown",
   "metadata": {},
   "source": [
    "# Model the Data\n",
    "In this section I'll use a variety of classifiers to create a a few models to see what performs best in this context. \"Best\" is going to be related to the model accuracy as a metric of success over the baseline 33% random guess.    \n",
    "\n",
    "#### First, I'll bring in a modeling function I wrote for a past project and instantiate the classifiers.\n",
    "I've commented out the roc curve due to multi-class not being supported. "
   ]
  },
  {
   "cell_type": "code",
   "execution_count": null,
   "metadata": {},
   "outputs": [],
   "source": [
    "# Function to combine classification report, confusion matrix, \n",
    "# accuracy score, roc curve, and auc in one easy way\n",
    "\n",
    "def model(algorithm, X_train, y_train, X_test, y_test, of_type):\n",
    "    algorithm.fit(X_train, y_train.astype(int))\n",
    "    preds = algorithm.predict(X_test)\n",
    "    \n",
    "    print(algorithm)\n",
    "    print(\"\\naccuracy_score:\",accuracy_score(y_test, preds))\n",
    "    print(\"\\nclassification report:\\n\", (classification_report(y_test, preds)))\n",
    "    \n",
    "    plt.figure(figsize=(14,10))\n",
    "    plt.subplot(221)\n",
    "    ax = sns.heatmap(confusion_matrix(y_test, preds), annot=True, fmt=\"d\", \n",
    "                linecolor=\"k\", linewidth=2)\n",
    "    # work around for top & bottom cutoff is pasted below\n",
    "    bottom, top = ax.get_ylim()\n",
    "    ax.set_ylim(bottom + 0.5, top - 0.5)\n",
    "    plt.title(\"Confusion Matrix\", fontsize=20)\n",
    "    \n",
    "    '''\n",
    "    predicting_probabilities = algorithm.predict_proba(X_test)[:,1]\n",
    "    fpr, tpr, thresholds = roc_curve(y_test, predicting_probabilities)\n",
    "    plt.subplot(222)\n",
    "    plt.plot(fpr, tpr, label = (\"Area Under the Curve:\", auc(fpr, tpr)), color=\"r\")\n",
    "    plt.plot([1,0], [1,0], linestyle = \"dashed\", color=\"k\")\n",
    "    plt.legend(loc=\"best\")\n",
    "    plt.title(\"ROC Curve and Area Under Curve\", fontsize=20)\n",
    "    '''\n",
    "    \n",
    "    if of_type == \"feat\":\n",
    "        dataframe = pd.DataFrame(algorithm.feature_importances_, X_train.columns).reset_index()\n",
    "        dataframe = dataframe.rename(columns={\"index\":\"features\", 0:\"coefficients\"})\n",
    "        dataframe = dataframe.sort_values(by=\"coefficients\", ascending=False)\n",
    "        # plot conf_matrix, roc/auc, and feat importances\n",
    "        plt.subplot(223)\n",
    "        ax = sns.barplot(x = \"coefficients\", y = \"features\", data = dataframe, palette = \"husl\")\n",
    "        plt.title(\"Feature Importances\", fontsize=20)\n",
    "        for i, j in enumerate(dataframe[\"coefficients\"]):\n",
    "            ax.text(.011, i, j, weight = \"bold\")\n",
    "        \n",
    "    elif of_type == \"coef\":\n",
    "        dataframe = pd.DataFrame(algorithm.coef_.ravel(), X_train.columns).reset_index()\n",
    "        dataframe = dataframe.rename(columns={\"index\":\"features\", 0:\"coefficients\"})\n",
    "        dataframe = dataframe.sort_values(by=\"coefficients\", ascending=False)\n",
    "        # plot conf_matrix, roc/auc, and feat importances\n",
    "        plt.subplot(223)\n",
    "        ax = sns.barplot(x = \"coefficients\", y = \"features\", data = dataframe, palette = \"husl\")\n",
    "        plt.title(\"Feature Importances\", fontsize=20)\n",
    "        for i, j in enumerate(dataframe[\"coefficients\"]):\n",
    "            ax.text(.011, i, j, weight = \"bold\")\n",
    "            \n",
    "    elif of_type == \"none\":\n",
    "        return(algorithm)"
   ]
  },
  {
   "cell_type": "code",
   "execution_count": null,
   "metadata": {},
   "outputs": [],
   "source": [
    "# creating classifiers\n",
    "dt = DecisionTreeClassifier() # feat\n",
    "\n",
    "# K Nearest Neighbor\n",
    "knn = KNeighborsClassifier(n_neighbors=4) # none\n",
    "\n",
    "# Support Vector Machine\n",
    "# svc = svm.SVC(decision_function_shape='ovo')\n",
    "\n",
    "# Random Forest \n",
    "rf = RandomForestClassifier() # feat\n",
    "\n",
    "# XGBoost \n",
    "xgb = xgb.XGBClassifier(random_state=rng) # feat\n"
   ]
  },
  {
   "cell_type": "markdown",
   "metadata": {},
   "source": [
    "'''Commented out scaled/transformed data, as I opted to use\n",
    "   a random forest classifier which doesn't need scaled/normalized data.\n",
    "\n",
    "TNdata = training_data.copy()\n",
    "TNdata.head()\n",
    "'''"
   ]
  },
  {
   "cell_type": "code",
   "execution_count": null,
   "metadata": {},
   "outputs": [],
   "source": [
    "# sklearn's MinMaxScaler\n",
    "'''\n",
    "x = TNdata.values # returns a numpy array\n",
    "min_max_scaler = MinMaxScaler()\n",
    "x_scaled = min_max_scaler.fit_transform(x)\n",
    "TNdata = pd.DataFrame(x_scaled, columns = TNdata.columns)\n",
    "'''"
   ]
  },
  {
   "cell_type": "code",
   "execution_count": null,
   "metadata": {},
   "outputs": [],
   "source": [
    "'''TNdata.head()'''"
   ]
  },
  {
   "cell_type": "code",
   "execution_count": null,
   "metadata": {},
   "outputs": [],
   "source": [
    "#confirm the transformation didn't affect the target class\n",
    "'''TNdata.target.value_counts()'''"
   ]
  },
  {
   "cell_type": "markdown",
   "metadata": {},
   "source": [
    "### Train and Test Splits\n",
    "Now to separate out the target class from the predictor variables and do a train-test split for both sets of data, and account for XGBoost. I've opted to do a 75/25 split. "
   ]
  },
  {
   "cell_type": "code",
   "execution_count": null,
   "metadata": {},
   "outputs": [],
   "source": [
    "# define X and y of our datasets\n",
    "# the TNdata is the Transformed-Normalized set\n",
    "'''y_TN = TNdata['target']\n",
    "X_TN = TNdata.drop(columns=['target', 'score1', 'score2'], axis=1)'''\n",
    "\n",
    "y = training_data['target']\n",
    "X = training_data.drop(columns=['target', 'score1', 'score2'], axis=1)\n",
    "\n",
    "# random seed is already defined as the variable rng.\n",
    "\n",
    "# split data into the train and test sets\n",
    "'''X_train_TN, X_test_TN, y_train_TN, y_test_TN = train_test_split(X_TN, \n",
    "                                                    y_TN, \n",
    "                                                    test_size=0.25, \n",
    "                                                    random_state=rng)'''\n",
    "\n",
    "X_train, X_test, y_train, y_test = train_test_split(X, \n",
    "                                                    y, \n",
    "                                                    test_size=0.25, \n",
    "                                                    random_state=rng)\n",
    "\n",
    "# split in numpy array format for XGBoost\n",
    "#X_train_xgb_TN, X_test_xgb_TN, y_train_xgb_TN, y_test_xgb_TN = train_test_split(X_TN.values, \n",
    "#                                                                    y_TN.values, \n",
    "#                                                                    test_size=0.25, \n",
    "#                                                                    random_state=rng)\n",
    "\n",
    "X_train_xgb, X_test_xgb, y_train_xgb, y_test_xgb = train_test_split(X.values, \n",
    "                                                                    y.values, \n",
    "                                                                    test_size=0.25, \n",
    "                                                                    random_state=rng)\n"
   ]
  },
  {
   "cell_type": "markdown",
   "metadata": {},
   "source": [
    "### Baseline Accuracy \n",
    "\n",
    "I will first be comparing my model accuracy to the baseline of random choice. Disregarding odds, there's a 33% chance of choosing the correct match result. The minimum goal is to greatly improve from that, and the ideal goal is to improve from the bookmaker odds. "
   ]
  },
  {
   "cell_type": "markdown",
   "metadata": {},
   "source": [
    "### Decision Tree"
   ]
  },
  {
   "cell_type": "code",
   "execution_count": null,
   "metadata": {},
   "outputs": [],
   "source": [
    "# raw data\n",
    "model(dt, X_train, y_train, X_test, y_test, \"feat\")"
   ]
  },
  {
   "cell_type": "code",
   "execution_count": null,
   "metadata": {},
   "outputs": [],
   "source": [
    "# normalized data\n",
    "# model(dt, X_train_TN, y_train_TN, X_test, y_test, \"feat\")"
   ]
  },
  {
   "cell_type": "markdown",
   "metadata": {},
   "source": [
    "### Random Forest"
   ]
  },
  {
   "cell_type": "code",
   "execution_count": null,
   "metadata": {},
   "outputs": [],
   "source": [
    "# raw data\n",
    "model(rf, X_train, y_train, X_test, y_test, \"feat\")"
   ]
  },
  {
   "cell_type": "code",
   "execution_count": null,
   "metadata": {},
   "outputs": [],
   "source": [
    "# normalized data\n",
    "# model(rf, X_train_TN, y_train_TN, X_test, y_test, \"feat\")"
   ]
  },
  {
   "cell_type": "markdown",
   "metadata": {},
   "source": [
    "### K Nearest Neighbor"
   ]
  },
  {
   "cell_type": "code",
   "execution_count": null,
   "metadata": {},
   "outputs": [],
   "source": [
    "# raw data\n",
    "model(knn, X_train, y_train, X_test, y_test, \"none\")"
   ]
  },
  {
   "cell_type": "code",
   "execution_count": null,
   "metadata": {},
   "outputs": [],
   "source": [
    "# normalized data\n",
    "# model(knn, X_train_TN, y_train_TN, X_test, y_test, \"none\")"
   ]
  },
  {
   "cell_type": "markdown",
   "metadata": {},
   "source": [
    "### XGBoost"
   ]
  },
  {
   "cell_type": "code",
   "execution_count": null,
   "metadata": {},
   "outputs": [],
   "source": [
    "# testing with non-normalized data\n",
    "clfxgb = XGBClassifier(random_state=rng)\n",
    "clfxgb.fit(X_train, y_train)\n",
    "training_preds = clfxgb.predict(X_train)\n",
    "val_preds = clfxgb.predict(X_test)\n",
    "training_accuracy = accuracy_score(y_train, training_preds)\n",
    "val_accuracy = accuracy_score(y_test, val_preds)\n",
    "\n",
    "print(\"Training Accuracy: {:.4}%\".format(training_accuracy * 100))\n",
    "print(\"Validation accuracy: {:.4}%\".format(val_accuracy * 100))"
   ]
  },
  {
   "cell_type": "code",
   "execution_count": null,
   "metadata": {},
   "outputs": [],
   "source": [
    "# raw XGB\n",
    "model(clfxgb, X_train, y_train, X_test, y_test, \"feat\")"
   ]
  },
  {
   "cell_type": "code",
   "execution_count": null,
   "metadata": {},
   "outputs": [],
   "source": [
    "# testing with normalized data\n",
    "#clf = XGBClassifier(random_state=rng)\n",
    "#clf.fit(X_train_TN, y_train_TN)\n",
    "#training_preds = clf.predict(X_train)\n",
    "#val_preds = clf.predict(X_test)\n",
    "#training_accuracy = accuracy_score(y_train, training_preds)\n",
    "#val_accuracy = accuracy_score(y_test, val_preds)\n",
    "#\n",
    "#print(\"Training Accuracy: {:.4}%\".format(training_accuracy * 100))\n",
    "#print(\"Validation accuracy: {:.4}%\".format(val_accuracy * 100))"
   ]
  },
  {
   "cell_type": "code",
   "execution_count": null,
   "metadata": {},
   "outputs": [],
   "source": [
    "# Transformed/normalized XGBoost\n",
    "#model(xgbo, X_train_TN, y_train_TN, X_test, y_test, \"feat\")"
   ]
  },
  {
   "cell_type": "markdown",
   "metadata": {},
   "source": [
    "### Summary of Models\n",
    "Due to their low levels of testing and validation accuracy, we clearly need to tune the models. The table below describes the performance of the models:\n"
   ]
  },
  {
   "cell_type": "markdown",
   "metadata": {},
   "source": [
    "| Classifier | Accuracy Score | Macro Avg. F1 Score | Weighted Avg. F1 score | False Pos | False Neg |\n",
    "| --- | --- | --- | --- | --- | --- |\n",
    "| XGBoost | 53 | .45 | .50 | 553 | 402 |\n",
    "| Random Forest | 51 | .45 | .49 | 522 | 477 |\n",
    "| Decision Tree | 43 | .40 | .43 | 539 | 628 |\n",
    "| KNN | 48 | .44 | .47 | 466 | 602 |"
   ]
  },
  {
   "cell_type": "markdown",
   "metadata": {},
   "source": [
    "## Tuning Model Hyperparameters\n",
    "\n",
    "In this stage, I'll take the 4 models using the transformed/normalized data, and look to increase their performance via GridSearch to find the ideal parameters. "
   ]
  },
  {
   "cell_type": "markdown",
   "metadata": {},
   "source": [
    "#### GridSearch Optimization for KNN"
   ]
  },
  {
   "cell_type": "code",
   "execution_count": null,
   "metadata": {},
   "outputs": [],
   "source": [
    "# create new KNN object\n",
    "knnTuned = KNeighborsClassifier()\n",
    "\n",
    "# hyperparameters to tune\n",
    "hyperparameters = {\n",
    "    'leaf_size' : [1, 10, 20, 30, 40, 50],\n",
    "    'n_neighbors' : [1, 20, 25, 35, 50],\n",
    "    'p' : [1, 2]\n",
    "}\n",
    "\n",
    "clf = GridSearchCV(knnTuned, hyperparameters, cv=10)\n",
    "\n",
    "# fit the model\n",
    "best_KNN = clf.fit(X_train, y_train)\n",
    "\n",
    "print('Best leaf_size:', best_KNN.best_estimator_.get_params()\n",
    "      ['leaf_size'])\n",
    "print('Best p:', best_KNN.best_estimator_.get_params()['p'])\n",
    "print('Best n_neighbors:', best_KNN.best_estimator_.get_params()\n",
    "      ['n_neighbors'])"
   ]
  },
  {
   "cell_type": "code",
   "execution_count": null,
   "metadata": {},
   "outputs": [],
   "source": [
    "KNN_tuned = KNeighborsClassifier(leaf_size=1,\n",
    "                                n_neighbors=50,\n",
    "                                p=2)"
   ]
  },
  {
   "cell_type": "code",
   "execution_count": null,
   "metadata": {},
   "outputs": [],
   "source": [
    "model(KNN_tuned, X_train, y_train, X_test, y_test, \"none\")"
   ]
  },
  {
   "cell_type": "markdown",
   "metadata": {},
   "source": [
    "While there was a 7% improvement over the un-tuned model, there's still a lot of room for improvement.  \n",
    "Since this is the best performing tuned model, I'm going to try tuning some more hyperparameters to see if we can make it perform a bit better before we move to deploy it. "
   ]
  },
  {
   "cell_type": "code",
   "execution_count": null,
   "metadata": {},
   "outputs": [],
   "source": [
    "# create new KNN object\n",
    "knnFinal = KNeighborsClassifier()\n",
    "\n",
    "# hyperparameters to tune\n",
    "hyperparameters = {\n",
    "    'leaf_size' : [1, 10, 20],\n",
    "    'n_neighbors' : [1, 20, 35, 50],\n",
    "    'p' : [1, 2],\n",
    "    'weights' : ['uniform', 'distance'],\n",
    "    'algorithm' : ['auto', 'ball_tree', 'kd_tree', 'brute'],\n",
    "    'metric' : ['euclidean', 'manhattan', 'minkowski']\n",
    "}\n",
    "\n",
    "clf = GridSearchCV(knnFinal, hyperparameters, cv=5)\n",
    "\n",
    "# fit the model\n",
    "knn_Final = clf.fit(X_train, y_train)\n",
    "\n",
    "print(f\"Optimal Parameters: {knn_Final.best_params_}\")"
   ]
  },
  {
   "cell_type": "code",
   "execution_count": null,
   "metadata": {},
   "outputs": [],
   "source": [
    "KNN_Final = KNeighborsClassifier(leaf_size=1,\n",
    "                                n_neighbors=50,\n",
    "                                p=2,\n",
    "                                algorithm='auto',\n",
    "                                metric='manhattan',\n",
    "                                weights='uniform')"
   ]
  },
  {
   "cell_type": "code",
   "execution_count": null,
   "metadata": {},
   "outputs": [],
   "source": [
    "model(KNN_Final, X_train, y_train, X_test, y_test, \"none\")"
   ]
  },
  {
   "cell_type": "markdown",
   "metadata": {},
   "source": [
    "#### GridSearch Optimization for Decision Tree"
   ]
  },
  {
   "cell_type": "code",
   "execution_count": null,
   "metadata": {
    "scrolled": true
   },
   "outputs": [],
   "source": [
    "# create new decision tree object\n",
    "dtTuned = DecisionTreeClassifier()\n",
    "\n",
    "# hyperparameters to tune\n",
    "hyperparameters = {\n",
    "    'min_samples_split' : [1, 10, 20, 30, 40],\n",
    "    'min_samples_leaf' : [1, 5, 10, 15, 20],\n",
    "    'max_depth' : [10, 25, 50, 65, 80, 100],\n",
    "    'criterion': ['gini','entropy'],\n",
    "    'class_weight' : [None, \"balanced\"]\n",
    "}\n",
    "\n",
    "clf = GridSearchCV(dtTuned, hyperparameters, cv=10)\n",
    "\n",
    "# fit the model\n",
    "best_DT = clf.fit(X_train, y_train)\n",
    "\n",
    "print(f\"Optimal Parameters: {best_DT.best_params_}\")"
   ]
  },
  {
   "cell_type": "markdown",
   "metadata": {},
   "source": [
    "#### Optimized Decision Tree Hyperparameters:  \n",
    "- criterion: entropy\n",
    "- max depth: 10\n",
    "- min samples leaf: 1\n",
    "- min samples split: 40\n",
    "- class weight: None"
   ]
  },
  {
   "cell_type": "code",
   "execution_count": null,
   "metadata": {},
   "outputs": [],
   "source": [
    "dt_Tuned = DecisionTreeClassifier(criterion='entropy',\n",
    "                                class_weight=None,\n",
    "                                max_depth=10,\n",
    "                                min_samples_leaf=1,\n",
    "                                min_samples_split=40,\n",
    "                                random_state=rng)"
   ]
  },
  {
   "cell_type": "code",
   "execution_count": null,
   "metadata": {},
   "outputs": [],
   "source": [
    "model(dt_Tuned, X_train, y_train, X_test, y_test, \"feat\")"
   ]
  },
  {
   "cell_type": "markdown",
   "metadata": {},
   "source": [
    "12% increase in accuracy from the un-tuned model However, there is still a high recall for the Home Win(1) class."
   ]
  },
  {
   "cell_type": "markdown",
   "metadata": {},
   "source": [
    "#### GridSearch Optimization for Random Forest"
   ]
  },
  {
   "cell_type": "code",
   "execution_count": null,
   "metadata": {},
   "outputs": [],
   "source": [
    "# create new random forest object\n",
    "rfTuned = RandomForestClassifier()\n",
    "\n",
    "# List hyperparameters to tune\n",
    "hyperparameters = {\n",
    "    'bootstrap' : [True, False],\n",
    "    'criterion' : ['gini', 'entropy'],\n",
    "    'n_estimators' : [100, 200, 400, 600],\n",
    "    'max_features' : ['auto', 'sqrt'],\n",
    "    'max_depth' : [25, 50, 75, 100],\n",
    "    'min_samples_split': [2, 5, 10],\n",
    "    'min_samples_leaf' : [1, 2, 4]\n",
    "}\n",
    "# using stratified KFold crossvalidation\n",
    "clf = GridSearchCV(rfTuned, hyperparameters, cv=5)\n",
    "\n",
    "# fit the model\n",
    "best_RF = clf.fit(X_train, y_train)\n",
    "\n",
    "print(f\"Optimal Parameters: {best_RF.best_params_}\")"
   ]
  },
  {
   "cell_type": "markdown",
   "metadata": {},
   "source": [
    "Optimal Parameters: {'bootstrap': True, 'criterion': 'entropy', 'max_depth': 50, 'max_features': 'auto', 'min_samples_leaf': 4, 'min_samples_split': 2, 'n_estimators': 100}"
   ]
  },
  {
   "cell_type": "code",
   "execution_count": null,
   "metadata": {},
   "outputs": [],
   "source": [
    "rf_Tuned = RandomForestClassifier(bootstrap=True, criterion='entropy',\n",
    "                                 max_depth=50, max_features='auto', \n",
    "                                 min_samples_leaf=4, min_samples_split=2, \n",
    "                                 n_estimators=100)"
   ]
  },
  {
   "cell_type": "code",
   "execution_count": null,
   "metadata": {},
   "outputs": [],
   "source": [
    "model(rf_Tuned, X_train, y_train, X_test, y_test, \"feat\")"
   ]
  },
  {
   "cell_type": "markdown",
   "metadata": {},
   "source": [
    "Not the best increase over the untuned model, only 2% accuracy. The forest model is still struggling with the Home Win(1) target class. This is probably due to it ranking the prob1 and prob2 pretty high, perhaps a boosted model will be able to account for that class imbalance a bit better. "
   ]
  },
  {
   "cell_type": "markdown",
   "metadata": {},
   "source": [
    "#### GridSearch Optimization for XGBoost"
   ]
  },
  {
   "cell_type": "code",
   "execution_count": null,
   "metadata": {},
   "outputs": [],
   "source": [
    "# create new xgboost object\n",
    "xgbTuned = XGBClassifier()\n",
    "\n",
    "# List hyperparameters to tune\n",
    "hyperparameters = {\n",
    "    'max_depth': [3, 5, 10, 20],\n",
    "    'learning_rate': [0.05, 0.125, 0.25, 0.5, 1],\n",
    "    'subsample': [.5, .75, .9],\n",
    "    'min_child_weight': [1, 5, 10, 20],\n",
    "    'n_estimators': [10, 100, 500]\n",
    "}\n",
    "# using stratified KFold crossvalidation\n",
    "clf = GridSearchCV(xgbTuned, hyperparameters, scoring='accuracy', cv=5)\n",
    "\n",
    "# fit the model\n",
    "best_XGB = clf.fit(X_train, y_train)\n",
    "\n",
    "print(f\"Optimal Parameters: {best_XGB.best_params_}\")"
   ]
  },
  {
   "cell_type": "code",
   "execution_count": null,
   "metadata": {},
   "outputs": [],
   "source": [
    "xgb_Tuned = XGBClassifier(random_state=rng, learning_rate=0.05, \n",
    "                         max_depth=3, min_child_weight=1,\n",
    "                         n_estimators=10, subsample=0.5)"
   ]
  },
  {
   "cell_type": "code",
   "execution_count": null,
   "metadata": {},
   "outputs": [],
   "source": [
    "model(xgb_Tuned, X_train, y_train, X_test, y_test, \"feat\")"
   ]
  },
  {
   "cell_type": "markdown",
   "metadata": {},
   "source": [
    "The XGBoost model will be discarded due to its poor ability to correctly predict draws. "
   ]
  },
  {
   "cell_type": "markdown",
   "metadata": {},
   "source": [
    "#### Pickle Final Tuned KNN Model"
   ]
  },
  {
   "cell_type": "code",
   "execution_count": null,
   "metadata": {},
   "outputs": [],
   "source": [
    "pickle.dump(KNN_Final, open('model.sav', 'wb'))"
   ]
  },
  {
   "cell_type": "code",
   "execution_count": null,
   "metadata": {},
   "outputs": [],
   "source": [
    "loaded_model = pickle.load(open('model.sav', 'rb'))\n",
    "loaded_model"
   ]
  },
  {
   "attachments": {
    "KNNCM.png": {
     "image/png": "[encoded data removed]"
    }
   },
   "cell_type": "markdown",
   "metadata": {},
   "source": [
    "# Interpret the Data - Conclusion\n",
    "\n",
    "### Model Performance (Top 3 models, comparing metrics)\n",
    "| Classifier | Accuracy Score | Macro Avg. F1 Score | Weighted Avg. F1 score | False Pos | False Neg |\n",
    "| --- | --- | --- | --- | --- | --- |\n",
    "| KNN | 55 | .45 | .50 | 578 | 337 |\n",
    "| Decision Tree | 54 | .43 | .49 | 623 | 322 |\n",
    "| Random Forest | 53 | .45 | .50 | 545 | 407 |\n",
    "\n",
    "\n",
    "Overall, the models performance could be described as wildly mediocre. There was a 22% accuracy increase from our baseline model of equal guessing, but still not what I would consider a high level of accuracy. The main issue here, is that soccer is a very complex game, that is very difficult to describe in numbers - and often times, the numerically better team can still lose. \n",
    "\n",
    "### Final Thoughts - Future Work\n",
    "\n",
    "#### Model Selection\n",
    "I ended up selecting a K Nearest Neighbors model as my final model to deploy. The run-time for the tree based models made them less-than-ideal, and the XGBoost classifier was too biased and brought too many type 1 and 2 errors. In the future, I will experiment with using a neural network, as I think those types of algorithms could perform well with this type of data.\n",
    "![KNNCM.png](attachment:KNNCM.png)\n",
    "\n",
    "#### Business Value\n",
    "I tested the model on the UEFA Champions League Matchday 6 fixtures and it accurately predicted 6 of the 8 games. 75% accuracy in its first test is acceptable, especially given the complex context of sports betting. The fixtures it incorrectly predicted were \"upsets\", so there will need to be some more work done to account for those situations. I will continue to tune and test the model on games this winter and update this conclusion with my findings. \n",
    "\n",
    "#### Class Imbalance\n",
    "Going forward, I will do a second round of modeling where I address the class imbalance within the dataset. There was not a *huge* class imbalance, but I feel improvements on model accuracy could be made if they were accounted for, especially for some of the classifiers that are more sensitive to class imbalance. "
   ]
  },
  {
   "cell_type": "markdown",
   "metadata": {},
   "source": [
    "### Data Sources\n",
    "\n",
    "FiveThirtyEight's Soccer Predictions, found [here](https://projects.fivethirtyeight.com/soccer-predictions/).  \n",
    "Mohammad Ghahramani’s Match datasets, found [here](https://data.world/analystmasters/earn-your-6-figure-prize-by-soccer-betting). \n"
   ]
  }
 ],
 "metadata": {
  "kernelspec": {
   "display_name": "Python 3.7.4 64-bit ('base': conda)",
   "language": "python",
   "name": "python37464bitbasecondad6469289bf5c4ec9959ab1db2811e646"
  },
  "language_info": {
   "codemirror_mode": {
    "name": "ipython",
    "version": 3
   },
   "file_extension": ".py",
   "mimetype": "text/x-python",
   "name": "python",
   "nbconvert_exporter": "python",
   "pygments_lexer": "ipython3",
   "version": "3.7.4"
  }
 },
 "nbformat": 4,
 "nbformat_minor": 2
}
